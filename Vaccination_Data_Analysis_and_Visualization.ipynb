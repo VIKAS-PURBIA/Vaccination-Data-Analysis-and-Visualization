{
  "nbformat": 4,
  "nbformat_minor": 0,
  "metadata": {
    "colab": {
      "provenance": [],
      "authorship_tag": "ABX9TyP/KOz6KhamnSCaI81+w6ve",
      "include_colab_link": true
    },
    "kernelspec": {
      "name": "python3",
      "display_name": "Python 3"
    },
    "language_info": {
      "name": "python"
    }
  },
  "cells": [
    {
      "cell_type": "markdown",
      "metadata": {
        "id": "view-in-github",
        "colab_type": "text"
      },
      "source": [
        "<a href=\"https://colab.research.google.com/github/VIKAS-PURBIA/Vaccination-Data-Analysis-and-Visualization/blob/main/Vaccination_Data_Analysis_and_Visualization.ipynb\" target=\"_parent\"><img src=\"https://colab.research.google.com/assets/colab-badge.svg\" alt=\"Open In Colab\"/></a>"
      ]
    },
    {
      "cell_type": "markdown",
      "source": [
        "# **Project Name** - Vaccination Data Analysis and Visualization"
      ],
      "metadata": {
        "id": "aiaTIX4DU2J1"
      }
    },
    {
      "cell_type": "markdown",
      "source": [
        "# **Project Type** -"
      ],
      "metadata": {
        "id": "gZJr-2cjVUGV"
      }
    },
    {
      "cell_type": "markdown",
      "source": [
        "1. Data Warehousing\n",
        "2. Data Analysis\n",
        "3. Exploratory Data Analysis (EDA)"
      ],
      "metadata": {
        "id": "IjS1Yda-Vkk-"
      }
    },
    {
      "cell_type": "markdown",
      "metadata": {
        "id": "VLCJKKiHg_H1"
      },
      "source": [
        "**Contribution**- Individual\n",
        "\n",
        "**Name**- Vikas Purbia"
      ]
    },
    {
      "cell_type": "markdown",
      "metadata": {
        "id": "-XLVaBiLhT33"
      },
      "source": [
        "#**Project Summary** -"
      ]
    },
    {
      "cell_type": "markdown",
      "source": [
        "This project focuses on building a data warehouse and analytics solution to explore global vaccination coverage, disease incidence trends, and regional disparities.\n",
        "\n",
        " **Objectives**\n",
        "\n",
        "1. Extract, clean, and transform vaccination and disease data from multiple sources.\n",
        "\n",
        "2. Design a star schema database (fact and dimension tables) in SQLite to ensure normalized storage and referential integrity.\n",
        "\n",
        "3. Perform Exploratory Data Analysis (EDA) to identify vaccination patterns, disease reduction trends, and regional disparities.\n",
        "\n",
        "4. Build interactive dashboards in Power BI to provide actionable insights for policymakers and public health monitoring."
      ],
      "metadata": {
        "id": "_mHITZ1gW2T1"
      }
    },
    {
      "cell_type": "markdown",
      "metadata": {
        "id": "ozVvvN3nAP0v"
      },
      "source": [
        "#**GitHub Link** -\n"
      ]
    },
    {
      "cell_type": "markdown",
      "source": [],
      "metadata": {
        "id": "I0jLSrWlXMk_"
      }
    },
    {
      "cell_type": "markdown",
      "metadata": {
        "id": "10mmAQCeAfcH"
      },
      "source": [
        "#**Problem Statement**"
      ]
    },
    {
      "cell_type": "markdown",
      "source": [
        "Analyze global vaccination data to understand trends in vaccination coverage, disease incidence, and effectiveness. Data will be cleaned, and stored in a SQL database. Power BI will be used to connect to the SQL database and create interactive dashboards that provide insights on vaccination strategies and their impact on disease control"
      ],
      "metadata": {
        "id": "f7Jq_M94XTRW"
      }
    },
    {
      "cell_type": "markdown",
      "source": [
        "# Dataset"
      ],
      "metadata": {
        "id": "znNW9XjGXdG9"
      }
    },
    {
      "cell_type": "markdown",
      "source": [
        "●\tDataset: [1. coverage data](https://docs.google.com/spreadsheets/d/15WOXUmRRzieQao1TMFHDswybS-7KHZb6/edit?usp=drive_link&ouid=109878841429873939556&rtpof=true&sd=true)  \n",
        "●\tDataset: [2. Incidence Rate](https://docs.google.com/spreadsheets/d/11QnGUPvwYisIgsbnA1283ar2eJDzZx9f/edit?usp=drive_link&ouid=109878841429873939556&rtpof=true&sd=true)  \n",
        "●\tDataset: [3. Reported cases](https://docs.google.com/spreadsheets/d/1PoFOkfQaIX2aCnazACSK7Yh1wT1ldWMk/edit?usp=sharing&ouid=109878841429873939556&rtpof=true&sd=true)  \n",
        "●\tDataset: [4. Vaccine Introduction](https://docs.google.com/spreadsheets/d/1G2oPfHtKLHcQXPtf6RSJwSJ8MEBvwFhj/edit?usp=sharing&ouid=109878841429873939556&rtpof=true&sd=true)  \n",
        "●\tDataset: [5.  Vaccine Schedule Data](https://docs.google.com/spreadsheets/d/1MxxqTIjeTPQ0uNWVp50PfyJK_d5zaZTc/edit?usp=drive_link&ouid=109878841429873939556&rtpof=true&sd=true)  "
      ],
      "metadata": {
        "id": "YBhMHVmHXqqo"
      }
    },
    {
      "cell_type": "markdown",
      "metadata": {
        "id": "DMtSd-7aCxcL"
      },
      "source": [
        "#**Let's Begin** !"
      ]
    },
    {
      "cell_type": "markdown",
      "source": [
        "## Import libraries"
      ],
      "metadata": {
        "id": "LOGEI0AeZ0nq"
      }
    },
    {
      "cell_type": "code",
      "execution_count": null,
      "metadata": {
        "colab": {
          "base_uri": "https://localhost:8080/"
        },
        "id": "uKxfs2MdbklE",
        "outputId": "cb45feec-d062-4b43-c729-550377044d0d"
      },
      "outputs": [
        {
          "output_type": "stream",
          "name": "stdout",
          "text": [
            "Cleaning complete. Clean CSVs in /mnt/data/cleaned and local DB: /mnt/data/vaccination.db\n"
          ]
        }
      ],
      "source": [
        "# data_pipeline.py\n",
        "import os\n",
        "import pandas as pd\n",
        "import numpy as np\n",
        "from sqlalchemy import create_engine, text\n",
        "\n",
        "# ---- file paths (update if needed) ----\n",
        "COVERAGE_FP = 'coverage-data.xlsx'\n",
        "INCIDENCE_FP = 'incidence-rate-data.xlsx'\n",
        "CASES_FP = 'reported-cases-data.xlsx'\n",
        "INTRO_FP = 'vaccine-introduction-data.xlsx'\n",
        "SCHEDULE_FP = 'vaccine-schedule-data.xlsx'\n",
        "OUT_DIR = '/mnt/data/cleaned'\n",
        "os.makedirs(OUT_DIR, exist_ok=True)\n",
        "\n",
        "# ---- helper functions ----\n",
        "def clean_columns(df):\n",
        "    df = df.copy()\n",
        "    df.columns = (df.columns.str.strip()\n",
        "                   .str.lower()\n",
        "                   .str.replace(' ', '_')\n",
        "                   .str.replace(r'[^0-9a-z_]', '', regex=True))\n",
        "    return df\n",
        "\n",
        "\n",
        "def safe_int(series):\n",
        "    # Keep decimals if present, else convert cleanly to Int64\n",
        "    s = pd.to_numeric(series, errors='coerce')\n",
        "    # check if all non-null values are integers\n",
        "    if s.dropna().eq(s.dropna().astype(int)).all():\n",
        "        return s.astype(\"Int64\")\n",
        "    else:\n",
        "        return s  # leave as float\n",
        "\n",
        "def safe_float(series):\n",
        "    return pd.to_numeric(series, errors='coerce')\n",
        "\n",
        "\n",
        "def read_excel(filepath):\n",
        "    df = pd.read_excel(filepath, engine='openpyxl')\n",
        "    return clean_columns(df)\n",
        "\n",
        "# ---- load files ----\n",
        "cov = read_excel(COVERAGE_FP)\n",
        "inc = read_excel(INCIDENCE_FP)\n",
        "cases = read_excel(CASES_FP)\n",
        "intro = read_excel(INTRO_FP)\n",
        "sched = read_excel(SCHEDULE_FP)\n",
        "\n",
        "# ---- standard cleaning notes (customize as needed) ----\n",
        "for df in [cov, inc, cases, intro, sched]:\n",
        "    # drop exact empty columns\n",
        "    df.dropna(axis=1, how='all', inplace=True)\n",
        "    # strip whitespace in string columns\n",
        "    for c in df.select_dtypes(include=['object']).columns:\n",
        "        df[c] = df[c].astype(str).str.strip().replace({'nan': None})\n",
        "\n",
        "# convert year fields\n",
        "for df in [cov, inc, cases, intro, sched]:\n",
        "    if 'year' in df.columns:\n",
        "        df['year'] = safe_int(df['year'])\n",
        "\n",
        "# numeric conversions\n",
        "if 'coverage' in cov.columns:\n",
        "    cov['coverage'] = safe_float(cov['coverage'])\n",
        "if 'dodge' in cov.columns:\n",
        "    cov['doses_administered'] = safe_int(cov['dodge'])\n",
        "elif 'doses' in cov.columns:\n",
        "    cov['doses_administered'] = safe_int(cov['doses'])\n",
        "if 'target_number' in cov.columns:\n",
        "    cov['target_number'] = safe_int(cov['target_number'])\n",
        "\n",
        "if 'incidence_rate' in inc.columns:\n",
        "    inc['incidence_rate'] = safe_float(inc['incidence_rate'])\n",
        "if 'cases' in cases.columns:\n",
        "    cases['cases'] = safe_int(cases['cases'])\n",
        "\n",
        "# drop duplicates\n",
        "cov = cov.drop_duplicates()\n",
        "inc = inc.drop_duplicates()\n",
        "cases = cases.drop_duplicates()\n",
        "intro = intro.drop_duplicates()\n",
        "sched = sched.drop_duplicates()\n",
        "\n",
        "# ---- create dimension: countries ----\n",
        "# unify country columns: prefer code/name fields present\n",
        "country_frames = []\n",
        "if {'code','name'}.issubset(cov.columns):\n",
        "    country_frames.append(cov[['code','name']])\n",
        "if {'code','name'}.issubset(inc.columns):\n",
        "    country_frames.append(inc[['code','name']])\n",
        "if {'code','name'}.issubset(cases.columns):\n",
        "    country_frames.append(cases[['code','name']])\n",
        "if 'iso_3_code' in intro.columns and 'country_name' in intro.columns:\n",
        "    tmp = intro[['iso_3_code','country_name']].rename(columns={'iso_3_code':'code','country_name':'name'})\n",
        "    country_frames.append(tmp)\n",
        "if 'iso_3_code' in sched.columns and 'country_name' in sched.columns:\n",
        "    tmp = sched[['iso_3_code','country_name']].rename(columns={'iso_3_code':'code','country_name':'name'})\n",
        "    country_frames.append(tmp)\n",
        "\n",
        "if country_frames:\n",
        "    countries = pd.concat(country_frames, ignore_index=True).drop_duplicates().dropna(subset=['code'])\n",
        "else:\n",
        "    countries = pd.DataFrame(columns=['code','name'])\n",
        "\n",
        "countries.reset_index(drop=True, inplace=True)\n",
        "countries['country_id'] = range(1, len(countries)+1)\n",
        "countries = countries[['country_id','code','name']]\n",
        "\n",
        "# ---- dim vaccines and diseases ----\n",
        "# vaccines from coverage antigen & schedule vaccine_code\n",
        "vaccine_rows = []\n",
        "if 'antigen' in cov.columns:\n",
        "    vaccine_rows.append(cov[['antigen','antigen_description']].rename(columns={'antigen':'vaccine_code','antigen_description':'vaccine_name'}))\n",
        "if 'vaccine_code' in sched.columns or 'vaccine_description' in sched.columns:\n",
        "    colmap = {}\n",
        "    if 'vaccine_code' in sched.columns: colmap['vaccine_code'] = 'vaccine_code'\n",
        "    if 'vaccine_description' in sched.columns: colmap['vaccine_description'] = 'vaccine_name'\n",
        "    vaccine_rows.append(sched[list(colmap.keys())].rename(columns=colmap))\n",
        "\n",
        "if vaccine_rows:\n",
        "    vaccines = pd.concat(vaccine_rows, ignore_index=True).drop_duplicates().dropna(subset=['vaccine_code'])\n",
        "    vaccines['vaccine_id'] = range(1, len(vaccines)+1)\n",
        "    vaccines = vaccines[['vaccine_id','vaccine_code','vaccine_name']]\n",
        "else:\n",
        "    vaccines = pd.DataFrame(columns=['vaccine_id','vaccine_code','vaccine_name'])\n",
        "\n",
        "# diseases\n",
        "d_rows = []\n",
        "if 'disease' in inc.columns:\n",
        "    d_rows.append(inc[['disease','disease_description']].rename(columns={'disease':'disease_code','disease_description':'disease_name'}))\n",
        "if 'disease' in cases.columns:\n",
        "    d_rows.append(cases[['disease','disease_description']].rename(columns={'disease':'disease_code','disease_description':'disease_name'}))\n",
        "if d_rows:\n",
        "    diseases = pd.concat(d_rows, ignore_index=True).drop_duplicates().dropna(subset=['disease_code'])\n",
        "    diseases['disease_id'] = range(1, len(diseases)+1)\n",
        "    diseases = diseases[['disease_id','disease_code','disease_name']]\n",
        "else:\n",
        "    diseases = pd.DataFrame(columns=['disease_id','disease_code','disease_name'])\n",
        "\n",
        "# ---- map country/vaccine/disease ids into fact tables ----\n",
        "# map helper\n",
        "countries_map = countries.set_index('code')['country_id'].to_dict()\n",
        "vaccines_map = vaccines.set_index('vaccine_code')['vaccine_id'].to_dict()\n",
        "diseases_map = diseases.set_index('disease_code')['disease_id'].to_dict()\n",
        "\n",
        "def map_country_id(df, code_col='code'):\n",
        "    df = df.copy()\n",
        "    if code_col in df.columns:\n",
        "        df['country_id'] = df[code_col].map(countries_map).astype('Int64')\n",
        "    return df\n",
        "\n",
        "# coverage fact\n",
        "cov_fact = cov.copy()\n",
        "if 'code' not in cov_fact.columns and 'iso_3_code' in cov_fact.columns:\n",
        "    cov_fact = cov_fact.rename(columns={'iso_3_code':'code'})\n",
        "cov_fact = map_country_id(cov_fact, 'code')\n",
        "if 'antigen' in cov_fact.columns:\n",
        "    cov_fact['vaccine_id'] = cov_fact['antigen'].map(vaccines_map).astype('Int64')\n",
        "cov_fact = cov_fact.rename(columns={'coverage':'coverage_percent'})\n",
        "cov_fact = cov_fact[['country_id','year','vaccine_id','target_number','doses_administered','coverage_percent','coverage_category']]\n",
        "\n",
        "# incidence fact\n",
        "inc_fact = inc.copy()\n",
        "if 'code' not in inc_fact.columns and 'iso_3_code' in inc_fact.columns:\n",
        "    inc_fact = inc_fact.rename(columns={'iso_3_code':'code'})\n",
        "inc_fact = map_country_id(inc_fact,'code')\n",
        "if 'disease' in inc_fact.columns:\n",
        "    inc_fact['disease_id'] = inc_fact['disease'].map(diseases_map).astype('Int64')\n",
        "inc_fact = inc_fact[['country_id','year','disease_id','denominator','incidence_rate']]\n",
        "\n",
        "# reported cases fact\n",
        "cases_fact = cases.copy()\n",
        "if 'code' not in cases_fact.columns and 'iso_3_code' in cases_fact.columns:\n",
        "    cases_fact = cases_fact.rename(columns={'iso_3_code':'code'})\n",
        "cases_fact = map_country_id(cases_fact,'code')\n",
        "if 'disease' in cases_fact.columns:\n",
        "    cases_fact['disease_id'] = cases_fact['disease'].map(diseases_map).astype('Int64')\n",
        "cases_fact = cases_fact[['country_id','year','disease_id','cases']]\n",
        "\n",
        "# vaccine introduction and schedule (keep as-is after mapping)\n",
        "intro_fact = intro.copy()\n",
        "if 'iso_3_code' in intro_fact.columns:\n",
        "    intro_fact = intro_fact.rename(columns={'iso_3_code':'code'})\n",
        "intro_fact = map_country_id(intro_fact,'code')\n",
        "intro_fact = intro_fact[['country_id','year','description','intro','who_region']]\n",
        "\n",
        "sched_fact = sched.copy()\n",
        "if 'iso_3_code' in sched_fact.columns:\n",
        "    sched_fact = sched_fact.rename(columns={'iso_3_code':'code'})\n",
        "sched_fact = map_country_id(sched_fact,'code')\n",
        "# schedule rounds -> schedule_round\n",
        "expected_cols = [\n",
        "    'country_id','year','vaccine_code','vaccine_description',\n",
        "    'schedule_round','target_pop','geoarea','age_administered','source_comment'\n",
        "]\n",
        "\n",
        "# Keep only columns that actually exist\n",
        "available_cols = [c for c in expected_cols if c in sched_fact.columns]\n",
        "sched_fact = sched_fact[available_cols]\n",
        "\n",
        "# map vaccine_code where possible\n",
        "if 'vaccine_code' in sched_fact.columns:\n",
        "    sched_fact['vaccine_id'] = sched_fact['vaccine_code'].map(vaccines_map).astype('Int64')\n",
        "\n",
        "# ---- write cleaned CSVs ----\n",
        "countries.to_csv(os.path.join(OUT_DIR,'dim_countries.csv'), index=False)\n",
        "vaccines.to_csv(os.path.join(OUT_DIR,'dim_vaccines.csv'), index=False)\n",
        "diseases.to_csv(os.path.join(OUT_DIR,'dim_diseases.csv'), index=False)\n",
        "cov_fact.to_csv(os.path.join(OUT_DIR,'fact_coverage.csv'), index=False)\n",
        "inc_fact.to_csv(os.path.join(OUT_DIR,'fact_incidence.csv'), index=False)\n",
        "cases_fact.to_csv(os.path.join(OUT_DIR,'fact_cases.csv'), index=False)\n",
        "intro_fact.to_csv(os.path.join(OUT_DIR,'fact_introduction.csv'), index=False)\n",
        "sched_fact.to_csv(os.path.join(OUT_DIR,'fact_schedule.csv'), index=False)\n",
        "\n",
        "# ---- quick local SQLite load (for Power BI Desktop testing) ----\n",
        "sqlite_path = '/mnt/data/vaccination.db'\n",
        "engine = create_engine(f\"sqlite:///{sqlite_path}\", echo=False)\n",
        "\n",
        "countries.to_sql('dim_countries', engine, if_exists='replace', index=False)\n",
        "vaccines.to_sql('dim_vaccines', engine, if_exists='replace', index=False)\n",
        "diseases.to_sql('dim_diseases', engine, if_exists='replace', index=False)\n",
        "cov_fact.to_sql('fact_coverage', engine, if_exists='replace', index=False)\n",
        "inc_fact.to_sql('fact_incidence', engine, if_exists='replace', index=False)\n",
        "cases_fact.to_sql('fact_cases', engine, if_exists='replace', index=False)\n",
        "intro_fact.to_sql('fact_introduction', engine, if_exists='replace', index=False)\n",
        "sched_fact.to_sql('fact_schedule', engine, if_exists='replace', index=False)\n",
        "\n",
        "print(\"Cleaning complete. Clean CSVs in\", OUT_DIR, \"and local DB:\", sqlite_path)\n"
      ]
    },
    {
      "cell_type": "code",
      "source": [
        "import os\n",
        "\n",
        "# 1. Create cleaned output folder\n",
        "OUT_DIR = '/content/cleaned'\n",
        "os.makedirs(OUT_DIR, exist_ok=True)\n",
        "\n",
        "# 2. Save your cleaned DataFrames as CSVs\n",
        "countries.to_csv(os.path.join(OUT_DIR,'dim_countries.csv'), index=False)\n",
        "vaccines.to_csv(os.path.join(OUT_DIR,'dim_vaccines.csv'), index=False)\n",
        "diseases.to_csv(os.path.join(OUT_DIR,'dim_diseases.csv'), index=False)\n",
        "cov_fact.to_csv(os.path.join(OUT_DIR,'fact_coverage.csv'), index=False)\n",
        "inc_fact.to_csv(os.path.join(OUT_DIR,'fact_incidence.csv'), index=False)\n",
        "cases_fact.to_csv(os.path.join(OUT_DIR,'fact_cases.csv'), index=False)\n",
        "intro_fact.to_csv(os.path.join(OUT_DIR,'fact_introduction.csv'), index=False)\n",
        "sched_fact.to_csv(os.path.join(OUT_DIR,'fact_schedule.csv'), index=False)\n",
        "\n",
        "print(\" Cleaned CSVs are saved in:\", OUT_DIR)\n",
        "print(\"Available files:\", os.listdir(OUT_DIR))\n"
      ],
      "metadata": {
        "colab": {
          "base_uri": "https://localhost:8080/"
        },
        "id": "ynT8bVyy5l-A",
        "outputId": "d638fba6-df69-4088-a664-28ffadf91e08"
      },
      "execution_count": null,
      "outputs": [
        {
          "output_type": "stream",
          "name": "stdout",
          "text": [
            " Cleaned CSVs are saved in: /content/cleaned\n",
            "Available files: ['fact_incidence.csv', 'fact_cases.csv', 'fact_schedule.csv', 'dim_countries.csv', 'fact_coverage.csv', 'dim_diseases.csv', 'fact_introduction.csv', 'dim_vaccines.csv']\n"
          ]
        }
      ]
    },
    {
      "cell_type": "code",
      "source": [
        "folder = r\"C:\\Users\\Lenovo\\Desktop\\vaccine\""
      ],
      "metadata": {
        "id": "wmwF-q2IM-wt"
      },
      "execution_count": null,
      "outputs": []
    },
    {
      "cell_type": "code",
      "source": [
        "import os\n",
        "import pandas as pd\n",
        "\n",
        "# Use the folder inside Colab where you saved cleaned files\n",
        "folder = \"/content/cleaned\"\n",
        "\n",
        "files = [\n",
        "    \"dim_countries.csv\",\n",
        "    \"dim_vaccines.csv\",\n",
        "    \"dim_diseases.csv\",\n",
        "    \"fact_coverage.csv\",\n",
        "    \"fact_incidence.csv\",\n",
        "    \"fact_cases.csv\",\n",
        "    \"fact_introduction.csv\",\n",
        "    \"fact_schedule.csv\"\n",
        "]\n",
        "\n",
        "drop_cols = ['country_id', 'vaccine_id', 'disease_id', 'year_id']\n",
        "\n",
        "print(\" Files in folder:\", os.listdir(folder))\n",
        "\n",
        "for f in files:\n",
        "    p = os.path.join(folder, f)\n",
        "    print(\" Processing:\", p)\n",
        "\n",
        "    if not os.path.exists(p):\n",
        "        print(\" File not found, skipping:\", f)\n",
        "        continue\n",
        "\n",
        "    df = pd.read_csv(p)\n",
        "    to_drop = [c for c in drop_cols if c in df.columns]\n",
        "\n",
        "    if to_drop:\n",
        "        df.drop(columns=to_drop, inplace=True)\n",
        "        print(\" Updated:\", f, \"→ Dropped\", to_drop)\n",
        "    else:\n",
        "        print(\"ℹ No ID columns found in\", f)\n",
        "\n",
        "    df.to_csv(p, index=False)\n",
        "\n",
        "print(\" All CSVs cleaned and saved in:\", folder)\n"
      ],
      "metadata": {
        "colab": {
          "base_uri": "https://localhost:8080/"
        },
        "id": "S9TnUmn5Nqz0",
        "outputId": "f478c9e0-72de-47d2-8424-d4cf263f3195"
      },
      "execution_count": null,
      "outputs": [
        {
          "output_type": "stream",
          "name": "stdout",
          "text": [
            " Files in folder: ['fact_incidence.csv', 'fact_cases.csv', 'fact_schedule.csv', 'dim_countries.csv', 'fact_coverage.csv', 'dim_diseases.csv', 'fact_introduction.csv', 'dim_vaccines.csv']\n",
            " Processing: /content/cleaned/dim_countries.csv\n",
            " Updated: dim_countries.csv → Dropped ['country_id']\n",
            " Processing: /content/cleaned/dim_vaccines.csv\n",
            " Updated: dim_vaccines.csv → Dropped ['vaccine_id']\n",
            " Processing: /content/cleaned/dim_diseases.csv\n",
            " Updated: dim_diseases.csv → Dropped ['disease_id']\n",
            " Processing: /content/cleaned/fact_coverage.csv\n",
            " Updated: fact_coverage.csv → Dropped ['country_id', 'vaccine_id']\n",
            " Processing: /content/cleaned/fact_incidence.csv\n",
            " Updated: fact_incidence.csv → Dropped ['country_id', 'disease_id']\n",
            " Processing: /content/cleaned/fact_cases.csv\n",
            " Updated: fact_cases.csv → Dropped ['country_id', 'disease_id']\n",
            " Processing: /content/cleaned/fact_introduction.csv\n",
            " Updated: fact_introduction.csv → Dropped ['country_id']\n",
            " Processing: /content/cleaned/fact_schedule.csv\n",
            " Updated: fact_schedule.csv → Dropped ['country_id']\n",
            " All CSVs cleaned and saved in: /content/cleaned\n"
          ]
        }
      ]
    },
    {
      "cell_type": "code",
      "source": [
        "from google.colab import files\n",
        "files.download('/content/cleaned/dim_countries.csv')\n",
        "files.download('/content/cleaned/dim_vaccines.csv')\n",
        "files.download('/content/cleaned/dim_diseases.csv')\n",
        "files.download('/content/cleaned/fact_coverage.csv')\n",
        "files.download('/content/cleaned/fact_incidence.csv')\n",
        "files.download('/content/cleaned/fact_cases.csv')\n",
        "files.download('/content/cleaned/fact_introduction.csv')\n",
        "files.download('/content/cleaned/fact_schedule.csv')"
      ],
      "metadata": {
        "colab": {
          "base_uri": "https://localhost:8080/",
          "height": 17
        },
        "id": "y3SOjKxI35N7",
        "outputId": "f6698c8c-c01d-4a04-a4fb-08c94cbb34d1"
      },
      "execution_count": null,
      "outputs": [
        {
          "output_type": "display_data",
          "data": {
            "text/plain": [
              "<IPython.core.display.Javascript object>"
            ],
            "application/javascript": [
              "\n",
              "    async function download(id, filename, size) {\n",
              "      if (!google.colab.kernel.accessAllowed) {\n",
              "        return;\n",
              "      }\n",
              "      const div = document.createElement('div');\n",
              "      const label = document.createElement('label');\n",
              "      label.textContent = `Downloading \"${filename}\": `;\n",
              "      div.appendChild(label);\n",
              "      const progress = document.createElement('progress');\n",
              "      progress.max = size;\n",
              "      div.appendChild(progress);\n",
              "      document.body.appendChild(div);\n",
              "\n",
              "      const buffers = [];\n",
              "      let downloaded = 0;\n",
              "\n",
              "      const channel = await google.colab.kernel.comms.open(id);\n",
              "      // Send a message to notify the kernel that we're ready.\n",
              "      channel.send({})\n",
              "\n",
              "      for await (const message of channel.messages) {\n",
              "        // Send a message to notify the kernel that we're ready.\n",
              "        channel.send({})\n",
              "        if (message.buffers) {\n",
              "          for (const buffer of message.buffers) {\n",
              "            buffers.push(buffer);\n",
              "            downloaded += buffer.byteLength;\n",
              "            progress.value = downloaded;\n",
              "          }\n",
              "        }\n",
              "      }\n",
              "      const blob = new Blob(buffers, {type: 'application/binary'});\n",
              "      const a = document.createElement('a');\n",
              "      a.href = window.URL.createObjectURL(blob);\n",
              "      a.download = filename;\n",
              "      div.appendChild(a);\n",
              "      a.click();\n",
              "      div.remove();\n",
              "    }\n",
              "  "
            ]
          },
          "metadata": {}
        },
        {
          "output_type": "display_data",
          "data": {
            "text/plain": [
              "<IPython.core.display.Javascript object>"
            ],
            "application/javascript": [
              "download(\"download_d83e8358-9000-47cc-855f-7373bf174147\", \"dim_countries.csv\", 4428)"
            ]
          },
          "metadata": {}
        },
        {
          "output_type": "display_data",
          "data": {
            "text/plain": [
              "<IPython.core.display.Javascript object>"
            ],
            "application/javascript": [
              "\n",
              "    async function download(id, filename, size) {\n",
              "      if (!google.colab.kernel.accessAllowed) {\n",
              "        return;\n",
              "      }\n",
              "      const div = document.createElement('div');\n",
              "      const label = document.createElement('label');\n",
              "      label.textContent = `Downloading \"${filename}\": `;\n",
              "      div.appendChild(label);\n",
              "      const progress = document.createElement('progress');\n",
              "      progress.max = size;\n",
              "      div.appendChild(progress);\n",
              "      document.body.appendChild(div);\n",
              "\n",
              "      const buffers = [];\n",
              "      let downloaded = 0;\n",
              "\n",
              "      const channel = await google.colab.kernel.comms.open(id);\n",
              "      // Send a message to notify the kernel that we're ready.\n",
              "      channel.send({})\n",
              "\n",
              "      for await (const message of channel.messages) {\n",
              "        // Send a message to notify the kernel that we're ready.\n",
              "        channel.send({})\n",
              "        if (message.buffers) {\n",
              "          for (const buffer of message.buffers) {\n",
              "            buffers.push(buffer);\n",
              "            downloaded += buffer.byteLength;\n",
              "            progress.value = downloaded;\n",
              "          }\n",
              "        }\n",
              "      }\n",
              "      const blob = new Blob(buffers, {type: 'application/binary'});\n",
              "      const a = document.createElement('a');\n",
              "      a.href = window.URL.createObjectURL(blob);\n",
              "      a.download = filename;\n",
              "      div.appendChild(a);\n",
              "      a.click();\n",
              "      div.remove();\n",
              "    }\n",
              "  "
            ]
          },
          "metadata": {}
        },
        {
          "output_type": "display_data",
          "data": {
            "text/plain": [
              "<IPython.core.display.Javascript object>"
            ],
            "application/javascript": [
              "download(\"download_d2175c1f-be8f-46ae-bd7d-16596229225d\", \"dim_vaccines.csv\", 3356)"
            ]
          },
          "metadata": {}
        },
        {
          "output_type": "display_data",
          "data": {
            "text/plain": [
              "<IPython.core.display.Javascript object>"
            ],
            "application/javascript": [
              "\n",
              "    async function download(id, filename, size) {\n",
              "      if (!google.colab.kernel.accessAllowed) {\n",
              "        return;\n",
              "      }\n",
              "      const div = document.createElement('div');\n",
              "      const label = document.createElement('label');\n",
              "      label.textContent = `Downloading \"${filename}\": `;\n",
              "      div.appendChild(label);\n",
              "      const progress = document.createElement('progress');\n",
              "      progress.max = size;\n",
              "      div.appendChild(progress);\n",
              "      document.body.appendChild(div);\n",
              "\n",
              "      const buffers = [];\n",
              "      let downloaded = 0;\n",
              "\n",
              "      const channel = await google.colab.kernel.comms.open(id);\n",
              "      // Send a message to notify the kernel that we're ready.\n",
              "      channel.send({})\n",
              "\n",
              "      for await (const message of channel.messages) {\n",
              "        // Send a message to notify the kernel that we're ready.\n",
              "        channel.send({})\n",
              "        if (message.buffers) {\n",
              "          for (const buffer of message.buffers) {\n",
              "            buffers.push(buffer);\n",
              "            downloaded += buffer.byteLength;\n",
              "            progress.value = downloaded;\n",
              "          }\n",
              "        }\n",
              "      }\n",
              "      const blob = new Blob(buffers, {type: 'application/binary'});\n",
              "      const a = document.createElement('a');\n",
              "      a.href = window.URL.createObjectURL(blob);\n",
              "      a.download = filename;\n",
              "      div.appendChild(a);\n",
              "      a.click();\n",
              "      div.remove();\n",
              "    }\n",
              "  "
            ]
          },
          "metadata": {}
        },
        {
          "output_type": "display_data",
          "data": {
            "text/plain": [
              "<IPython.core.display.Javascript object>"
            ],
            "application/javascript": [
              "download(\"download_d20f3437-fffa-4d87-8a2f-66d85b34fb68\", \"dim_diseases.csv\", 325)"
            ]
          },
          "metadata": {}
        },
        {
          "output_type": "display_data",
          "data": {
            "text/plain": [
              "<IPython.core.display.Javascript object>"
            ],
            "application/javascript": [
              "\n",
              "    async function download(id, filename, size) {\n",
              "      if (!google.colab.kernel.accessAllowed) {\n",
              "        return;\n",
              "      }\n",
              "      const div = document.createElement('div');\n",
              "      const label = document.createElement('label');\n",
              "      label.textContent = `Downloading \"${filename}\": `;\n",
              "      div.appendChild(label);\n",
              "      const progress = document.createElement('progress');\n",
              "      progress.max = size;\n",
              "      div.appendChild(progress);\n",
              "      document.body.appendChild(div);\n",
              "\n",
              "      const buffers = [];\n",
              "      let downloaded = 0;\n",
              "\n",
              "      const channel = await google.colab.kernel.comms.open(id);\n",
              "      // Send a message to notify the kernel that we're ready.\n",
              "      channel.send({})\n",
              "\n",
              "      for await (const message of channel.messages) {\n",
              "        // Send a message to notify the kernel that we're ready.\n",
              "        channel.send({})\n",
              "        if (message.buffers) {\n",
              "          for (const buffer of message.buffers) {\n",
              "            buffers.push(buffer);\n",
              "            downloaded += buffer.byteLength;\n",
              "            progress.value = downloaded;\n",
              "          }\n",
              "        }\n",
              "      }\n",
              "      const blob = new Blob(buffers, {type: 'application/binary'});\n",
              "      const a = document.createElement('a');\n",
              "      a.href = window.URL.createObjectURL(blob);\n",
              "      a.download = filename;\n",
              "      div.appendChild(a);\n",
              "      a.click();\n",
              "      div.remove();\n",
              "    }\n",
              "  "
            ]
          },
          "metadata": {}
        },
        {
          "output_type": "display_data",
          "data": {
            "text/plain": [
              "<IPython.core.display.Javascript object>"
            ],
            "application/javascript": [
              "download(\"download_beab8abd-8a37-4603-be11-ac3d23ff68d4\", \"fact_coverage.csv\", 8955370)"
            ]
          },
          "metadata": {}
        },
        {
          "output_type": "display_data",
          "data": {
            "text/plain": [
              "<IPython.core.display.Javascript object>"
            ],
            "application/javascript": [
              "\n",
              "    async function download(id, filename, size) {\n",
              "      if (!google.colab.kernel.accessAllowed) {\n",
              "        return;\n",
              "      }\n",
              "      const div = document.createElement('div');\n",
              "      const label = document.createElement('label');\n",
              "      label.textContent = `Downloading \"${filename}\": `;\n",
              "      div.appendChild(label);\n",
              "      const progress = document.createElement('progress');\n",
              "      progress.max = size;\n",
              "      div.appendChild(progress);\n",
              "      document.body.appendChild(div);\n",
              "\n",
              "      const buffers = [];\n",
              "      let downloaded = 0;\n",
              "\n",
              "      const channel = await google.colab.kernel.comms.open(id);\n",
              "      // Send a message to notify the kernel that we're ready.\n",
              "      channel.send({})\n",
              "\n",
              "      for await (const message of channel.messages) {\n",
              "        // Send a message to notify the kernel that we're ready.\n",
              "        channel.send({})\n",
              "        if (message.buffers) {\n",
              "          for (const buffer of message.buffers) {\n",
              "            buffers.push(buffer);\n",
              "            downloaded += buffer.byteLength;\n",
              "            progress.value = downloaded;\n",
              "          }\n",
              "        }\n",
              "      }\n",
              "      const blob = new Blob(buffers, {type: 'application/binary'});\n",
              "      const a = document.createElement('a');\n",
              "      a.href = window.URL.createObjectURL(blob);\n",
              "      a.download = filename;\n",
              "      div.appendChild(a);\n",
              "      a.click();\n",
              "      div.remove();\n",
              "    }\n",
              "  "
            ]
          },
          "metadata": {}
        },
        {
          "output_type": "display_data",
          "data": {
            "text/plain": [
              "<IPython.core.display.Javascript object>"
            ],
            "application/javascript": [
              "download(\"download_feb5e68f-6cb9-45c1-8bb2-c951879e6ee1\", \"fact_incidence.csv\", 3543627)"
            ]
          },
          "metadata": {}
        },
        {
          "output_type": "display_data",
          "data": {
            "text/plain": [
              "<IPython.core.display.Javascript object>"
            ],
            "application/javascript": [
              "\n",
              "    async function download(id, filename, size) {\n",
              "      if (!google.colab.kernel.accessAllowed) {\n",
              "        return;\n",
              "      }\n",
              "      const div = document.createElement('div');\n",
              "      const label = document.createElement('label');\n",
              "      label.textContent = `Downloading \"${filename}\": `;\n",
              "      div.appendChild(label);\n",
              "      const progress = document.createElement('progress');\n",
              "      progress.max = size;\n",
              "      div.appendChild(progress);\n",
              "      document.body.appendChild(div);\n",
              "\n",
              "      const buffers = [];\n",
              "      let downloaded = 0;\n",
              "\n",
              "      const channel = await google.colab.kernel.comms.open(id);\n",
              "      // Send a message to notify the kernel that we're ready.\n",
              "      channel.send({})\n",
              "\n",
              "      for await (const message of channel.messages) {\n",
              "        // Send a message to notify the kernel that we're ready.\n",
              "        channel.send({})\n",
              "        if (message.buffers) {\n",
              "          for (const buffer of message.buffers) {\n",
              "            buffers.push(buffer);\n",
              "            downloaded += buffer.byteLength;\n",
              "            progress.value = downloaded;\n",
              "          }\n",
              "        }\n",
              "      }\n",
              "      const blob = new Blob(buffers, {type: 'application/binary'});\n",
              "      const a = document.createElement('a');\n",
              "      a.href = window.URL.createObjectURL(blob);\n",
              "      a.download = filename;\n",
              "      div.appendChild(a);\n",
              "      a.click();\n",
              "      div.remove();\n",
              "    }\n",
              "  "
            ]
          },
          "metadata": {}
        },
        {
          "output_type": "display_data",
          "data": {
            "text/plain": [
              "<IPython.core.display.Javascript object>"
            ],
            "application/javascript": [
              "download(\"download_a16e0404-9901-4a59-8a05-94ec3dd0003b\", \"fact_cases.csv\", 924516)"
            ]
          },
          "metadata": {}
        },
        {
          "output_type": "display_data",
          "data": {
            "text/plain": [
              "<IPython.core.display.Javascript object>"
            ],
            "application/javascript": [
              "\n",
              "    async function download(id, filename, size) {\n",
              "      if (!google.colab.kernel.accessAllowed) {\n",
              "        return;\n",
              "      }\n",
              "      const div = document.createElement('div');\n",
              "      const label = document.createElement('label');\n",
              "      label.textContent = `Downloading \"${filename}\": `;\n",
              "      div.appendChild(label);\n",
              "      const progress = document.createElement('progress');\n",
              "      progress.max = size;\n",
              "      div.appendChild(progress);\n",
              "      document.body.appendChild(div);\n",
              "\n",
              "      const buffers = [];\n",
              "      let downloaded = 0;\n",
              "\n",
              "      const channel = await google.colab.kernel.comms.open(id);\n",
              "      // Send a message to notify the kernel that we're ready.\n",
              "      channel.send({})\n",
              "\n",
              "      for await (const message of channel.messages) {\n",
              "        // Send a message to notify the kernel that we're ready.\n",
              "        channel.send({})\n",
              "        if (message.buffers) {\n",
              "          for (const buffer of message.buffers) {\n",
              "            buffers.push(buffer);\n",
              "            downloaded += buffer.byteLength;\n",
              "            progress.value = downloaded;\n",
              "          }\n",
              "        }\n",
              "      }\n",
              "      const blob = new Blob(buffers, {type: 'application/binary'});\n",
              "      const a = document.createElement('a');\n",
              "      a.href = window.URL.createObjectURL(blob);\n",
              "      a.download = filename;\n",
              "      div.appendChild(a);\n",
              "      a.click();\n",
              "      div.remove();\n",
              "    }\n",
              "  "
            ]
          },
          "metadata": {}
        },
        {
          "output_type": "display_data",
          "data": {
            "text/plain": [
              "<IPython.core.display.Javascript object>"
            ],
            "application/javascript": [
              "download(\"download_f501625f-21b7-4238-9584-018c0a29636e\", \"fact_introduction.csv\", 5899468)"
            ]
          },
          "metadata": {}
        },
        {
          "output_type": "display_data",
          "data": {
            "text/plain": [
              "<IPython.core.display.Javascript object>"
            ],
            "application/javascript": [
              "\n",
              "    async function download(id, filename, size) {\n",
              "      if (!google.colab.kernel.accessAllowed) {\n",
              "        return;\n",
              "      }\n",
              "      const div = document.createElement('div');\n",
              "      const label = document.createElement('label');\n",
              "      label.textContent = `Downloading \"${filename}\": `;\n",
              "      div.appendChild(label);\n",
              "      const progress = document.createElement('progress');\n",
              "      progress.max = size;\n",
              "      div.appendChild(progress);\n",
              "      document.body.appendChild(div);\n",
              "\n",
              "      const buffers = [];\n",
              "      let downloaded = 0;\n",
              "\n",
              "      const channel = await google.colab.kernel.comms.open(id);\n",
              "      // Send a message to notify the kernel that we're ready.\n",
              "      channel.send({})\n",
              "\n",
              "      for await (const message of channel.messages) {\n",
              "        // Send a message to notify the kernel that we're ready.\n",
              "        channel.send({})\n",
              "        if (message.buffers) {\n",
              "          for (const buffer of message.buffers) {\n",
              "            buffers.push(buffer);\n",
              "            downloaded += buffer.byteLength;\n",
              "            progress.value = downloaded;\n",
              "          }\n",
              "        }\n",
              "      }\n",
              "      const blob = new Blob(buffers, {type: 'application/binary'});\n",
              "      const a = document.createElement('a');\n",
              "      a.href = window.URL.createObjectURL(blob);\n",
              "      a.download = filename;\n",
              "      div.appendChild(a);\n",
              "      a.click();\n",
              "      div.remove();\n",
              "    }\n",
              "  "
            ]
          },
          "metadata": {}
        },
        {
          "output_type": "display_data",
          "data": {
            "text/plain": [
              "<IPython.core.display.Javascript object>"
            ],
            "application/javascript": [
              "download(\"download_adcbe7dc-f52b-4b9f-a893-7929f1dc021a\", \"fact_schedule.csv\", 465123)"
            ]
          },
          "metadata": {}
        }
      ]
    },
    {
      "cell_type": "code",
      "source": [
        "import sqlite3\n",
        "import pandas as pd\n",
        "import os\n",
        "\n",
        "# Path for SQLite DB in Colab\n",
        "db_path = \"/content/vaccination_data.db\"\n",
        "conn = sqlite3.connect(db_path)\n",
        "cursor = conn.cursor()\n"
      ],
      "metadata": {
        "id": "v3lw1OpPd4aC"
      },
      "execution_count": null,
      "outputs": []
    },
    {
      "cell_type": "code",
      "source": [
        "schema = \"\"\"\n",
        "DROP TABLE IF EXISTS fact_schedule;\n",
        "DROP TABLE IF EXISTS fact_introduction;\n",
        "DROP TABLE IF EXISTS fact_cases;\n",
        "DROP TABLE IF EXISTS fact_incidence;\n",
        "DROP TABLE IF EXISTS fact_coverage;\n",
        "DROP TABLE IF EXISTS dim_years;\n",
        "DROP TABLE IF EXISTS dim_diseases;\n",
        "DROP TABLE IF EXISTS dim_vaccines;\n",
        "DROP TABLE IF EXISTS dim_countries;\n",
        "\n",
        "-- Dimensions\n",
        "CREATE TABLE dim_countries (\n",
        "    country_id INTEGER PRIMARY KEY AUTOINCREMENT,\n",
        "    iso3 TEXT UNIQUE,\n",
        "    country_name TEXT,\n",
        "    who_region TEXT\n",
        ");\n",
        "\n",
        "CREATE TABLE dim_vaccines (\n",
        "    vaccine_id INTEGER PRIMARY KEY AUTOINCREMENT,\n",
        "    vaccine_code TEXT UNIQUE,\n",
        "    vaccine_name TEXT\n",
        ");\n",
        "\n",
        "CREATE TABLE dim_diseases (\n",
        "    disease_id INTEGER PRIMARY KEY AUTOINCREMENT,\n",
        "    disease_code TEXT UNIQUE,\n",
        "    disease_name TEXT\n",
        ");\n",
        "\n",
        "CREATE TABLE dim_years (\n",
        "    year_id INTEGER PRIMARY KEY AUTOINCREMENT,\n",
        "    year INTEGER UNIQUE\n",
        ");\n",
        "\n",
        "-- Facts\n",
        "CREATE TABLE fact_coverage (\n",
        "    coverage_id INTEGER PRIMARY KEY AUTOINCREMENT,\n",
        "    country_id INTEGER,\n",
        "    vaccine_id INTEGER,\n",
        "    year_id INTEGER,\n",
        "    target_number INTEGER,\n",
        "    doses_administered INTEGER,\n",
        "    coverage_percent REAL,\n",
        "    coverage_category TEXT,\n",
        "    FOREIGN KEY (country_id) REFERENCES dim_countries(country_id),\n",
        "    FOREIGN KEY (vaccine_id) REFERENCES dim_vaccines(vaccine_id),\n",
        "    FOREIGN KEY (year_id) REFERENCES dim_years(year_id)\n",
        ");\n",
        "\n",
        "CREATE TABLE fact_incidence (\n",
        "    incidence_id INTEGER PRIMARY KEY AUTOINCREMENT,\n",
        "    country_id INTEGER,\n",
        "    disease_id INTEGER,\n",
        "    year_id INTEGER,\n",
        "    denominator TEXT,\n",
        "    incidence_rate REAL,\n",
        "    FOREIGN KEY (country_id) REFERENCES dim_countries(country_id),\n",
        "    FOREIGN KEY (disease_id) REFERENCES dim_diseases(disease_id),\n",
        "    FOREIGN KEY (year_id) REFERENCES dim_years(year_id)\n",
        ");\n",
        "\n",
        "CREATE TABLE fact_cases (\n",
        "    case_id INTEGER PRIMARY KEY AUTOINCREMENT,\n",
        "    country_id INTEGER,\n",
        "    disease_id INTEGER,\n",
        "    year_id INTEGER,\n",
        "    cases INTEGER,\n",
        "    FOREIGN KEY (country_id) REFERENCES dim_countries(country_id),\n",
        "    FOREIGN KEY (disease_id) REFERENCES dim_diseases(disease_id),\n",
        "    FOREIGN KEY (year_id) REFERENCES dim_years(year_id)\n",
        ");\n",
        "\n",
        "CREATE TABLE fact_introduction (\n",
        "    intro_id INTEGER PRIMARY KEY AUTOINCREMENT,\n",
        "    country_id INTEGER,\n",
        "    vaccine_id INTEGER,\n",
        "    year_id INTEGER,\n",
        "    introduced INTEGER,\n",
        "    FOREIGN KEY (country_id) REFERENCES dim_countries(country_id),\n",
        "    FOREIGN KEY (vaccine_id) REFERENCES dim_vaccines(vaccine_id),\n",
        "    FOREIGN KEY (year_id) REFERENCES dim_years(year_id)\n",
        ");\n",
        "\n",
        "CREATE TABLE fact_schedule (\n",
        "    schedule_id INTEGER PRIMARY KEY AUTOINCREMENT,\n",
        "    country_id INTEGER,\n",
        "    vaccine_id INTEGER,\n",
        "    year_id INTEGER,\n",
        "    schedule_round INTEGER,\n",
        "    target_pop TEXT,\n",
        "    geoarea TEXT,\n",
        "    age_administered TEXT,\n",
        "    source_comment TEXT,\n",
        "    FOREIGN KEY (country_id) REFERENCES dim_countries(country_id),\n",
        "    FOREIGN KEY (vaccine_id) REFERENCES dim_vaccines(vaccine_id),\n",
        "    FOREIGN KEY (year_id) REFERENCES dim_years(year_id)\n",
        ");\n",
        "\"\"\"\n",
        "cursor.executescript(schema)\n",
        "conn.commit()\n",
        "print(\" Database schema created successfully\")\n"
      ],
      "metadata": {
        "colab": {
          "base_uri": "https://localhost:8080/"
        },
        "id": "Y9xqR2pLd7v3",
        "outputId": "f45910b5-47be-4fde-d4d4-20815f78cd6e"
      },
      "execution_count": null,
      "outputs": [
        {
          "output_type": "stream",
          "name": "stdout",
          "text": [
            " Database schema created successfully\n"
          ]
        }
      ]
    },
    {
      "cell_type": "code",
      "source": [
        "from google.colab import drive\n",
        "drive.mount('/content/drive')\n"
      ],
      "metadata": {
        "colab": {
          "base_uri": "https://localhost:8080/"
        },
        "id": "m3dd1Q1jhl2h",
        "outputId": "14419c16-bfff-4b3b-cc2f-7bc971fec812"
      },
      "execution_count": null,
      "outputs": [
        {
          "output_type": "stream",
          "name": "stdout",
          "text": [
            "Drive already mounted at /content/drive; to attempt to forcibly remount, call drive.mount(\"/content/drive\", force_remount=True).\n"
          ]
        }
      ]
    },
    {
      "cell_type": "code",
      "source": [
        "import os\n",
        "\n",
        "# Path to your vaccine folder\n",
        "folder = \"/content/drive/MyDrive/vaccine\"\n",
        "\n",
        "# Check files inside\n",
        "print(os.listdir(folder))\n"
      ],
      "metadata": {
        "colab": {
          "base_uri": "https://localhost:8080/"
        },
        "id": "UKej0spkh_vV",
        "outputId": "b7f6c5a1-66a4-4aeb-a50c-70a7689841bd"
      },
      "execution_count": null,
      "outputs": [
        {
          "output_type": "stream",
          "name": "stdout",
          "text": [
            "['fact_cases.csv', 'dim_vaccines.csv', 'dim_countries.csv', 'dim_diseases.csv', 'fact_schedule.csv', 'fact_incidence.csv', 'fact_introduction.csv', 'fact_coverage.csv']\n"
          ]
        }
      ]
    },
    {
      "cell_type": "code",
      "source": [
        "import pandas as pd\n",
        "\n",
        "csv_files = {\n",
        "    \"dim_countries\": \"dim_countries.csv\",\n",
        "    \"dim_vaccines\": \"dim_vaccines.csv\",\n",
        "    \"dim_diseases\": \"dim_diseases.csv\",\n",
        "    \"fact_coverage\": \"fact_coverage.csv\",\n",
        "    \"fact_incidence\": \"fact_incidence.csv\",\n",
        "    \"fact_cases\": \"fact_cases.csv\",\n",
        "    \"fact_introduction\": \"fact_introduction.csv\",\n",
        "    \"fact_schedule\": \"fact_schedule.csv\"\n",
        "}\n",
        "\n",
        "# Load them into a dictionary of DataFrames\n",
        "dfs = {name: pd.read_csv(os.path.join(folder, fname)) for name, fname in csv_files.items()}\n",
        "\n",
        "# Preview first rows of each file\n",
        "for key, df in dfs.items():\n",
        "    print(f\"\\n {key} → {df.shape[0]} rows\")\n",
        "    print(df.head())\n"
      ],
      "metadata": {
        "colab": {
          "base_uri": "https://localhost:8080/"
        },
        "id": "xMl-oYEDiDei",
        "outputId": "43e2d11c-9a0c-46cd-b340-30cf5ff8cc9e"
      },
      "execution_count": null,
      "outputs": [
        {
          "output_type": "stream",
          "name": "stdout",
          "text": [
            "\n",
            " dim_countries → 245 rows\n",
            "  code         name\n",
            "0  ABW        Aruba\n",
            "1  AFG  Afghanistan\n",
            "2  AGO       Angola\n",
            "3  AIA     Anguilla\n",
            "4  ALB      Albania\n",
            "\n",
            " dim_vaccines → 69 rows\n",
            "  vaccine_code                                       vaccine_name\n",
            "0          BCG                                                BCG\n",
            "1      DIPHCV4  Diphtheria-containing vaccine, 4th dose (1st b...\n",
            "2      DIPHCV5  Diphtheria-containing vaccine, 5th dose (2nd b...\n",
            "3      DIPHCV6  Diphtheria-containing vaccine, 6th dose (3rd b...\n",
            "4       DTPCV1                   DTP-containing vaccine, 1st dose\n",
            "\n",
            " dim_diseases → 13 rows\n",
            "      disease_code                    disease_name\n",
            "0              CRS     Congenital rubella syndrome\n",
            "1       DIPHTHERIA                      Diphtheria\n",
            "2  INVASIVE_MENING  Invasive meningococcal disease\n",
            "3          MEASLES                         Measles\n",
            "4            MUMPS                           Mumps\n",
            "\n",
            " fact_coverage → 399859 rows\n",
            "     year  target_number  doses_administered  coverage_percent  \\\n",
            "0  2023.0            NaN                 NaN               NaN   \n",
            "1  2023.0            NaN                 NaN               NaN   \n",
            "2  2023.0         1044.0               945.0             90.52   \n",
            "3  2023.0            NaN                 NaN             90.52   \n",
            "4  2023.0         1219.0              1008.0             82.69   \n",
            "\n",
            "  coverage_category  \n",
            "0             ADMIN  \n",
            "1          OFFICIAL  \n",
            "2             ADMIN  \n",
            "3          OFFICIAL  \n",
            "4             ADMIN  \n",
            "\n",
            " fact_incidence → 84946 rows\n",
            "     year                     denominator  incidence_rate\n",
            "0  2023.0          per 10,000 live births             0.0\n",
            "1  2023.0  per 1,000,000 total population             0.0\n",
            "2  2023.0  per 1,000,000 total population             9.3\n",
            "3  2023.0  per 1,000,000 total population             NaN\n",
            "4  2023.0  per 1,000,000 total population             0.0\n",
            "\n",
            " fact_cases → 84870 rows\n",
            "     year  cases\n",
            "0  2023.0    0.0\n",
            "1  2023.0    0.0\n",
            "2  2023.0    1.0\n",
            "3  2023.0    NaN\n",
            "4  2023.0    0.0\n",
            "\n",
            " fact_introduction → 138321 rows\n",
            "     year                                  description intro who_region\n",
            "0  2023.0             aP (acellular pertussis) vaccine    No       EMRO\n",
            "1  2023.0                          Hepatitis A vaccine    No       EMRO\n",
            "2  2023.0                          Hepatitis B vaccine   Yes       EMRO\n",
            "3  2023.0                              HepB birth dose   Yes       EMRO\n",
            "4  2023.0  Hib (Haemophilus influenzae type B) vaccine   Yes       EMRO\n",
            "\n",
            " fact_schedule → 8053 rows\n",
            "     year               vaccine_description   geoarea\n",
            "0  2023.0  DTaP-Hib-IPV (acellular) vaccine  NATIONAL\n",
            "1  2023.0  DTaP-Hib-IPV (acellular) vaccine  NATIONAL\n",
            "2  2023.0  DTaP-Hib-IPV (acellular) vaccine  NATIONAL\n",
            "3  2023.0  DTaP-Hib-IPV (acellular) vaccine  NATIONAL\n",
            "4  2023.0      DTaP-IPV (acellular) vaccine  NATIONAL\n"
          ]
        }
      ]
    },
    {
      "cell_type": "markdown",
      "source": [
        "## Populate Dimension Tables"
      ],
      "metadata": {
        "id": "e4abulywifdc"
      }
    },
    {
      "cell_type": "code",
      "source": [
        "print(dfs[\"dim_countries\"].columns.tolist())\n"
      ],
      "metadata": {
        "colab": {
          "base_uri": "https://localhost:8080/"
        },
        "id": "C37FDYFOllsI",
        "outputId": "e03f0165-447f-4b46-b4b3-ad15d4abaa11"
      },
      "execution_count": null,
      "outputs": [
        {
          "output_type": "stream",
          "name": "stdout",
          "text": [
            "['code', 'name']\n"
          ]
        }
      ]
    },
    {
      "cell_type": "code",
      "source": [
        "# --- Countries ---\n",
        "countries = dfs[\"dim_countries\"].rename(columns={\n",
        "    \"code\": \"iso3\",\n",
        "    \"name\": \"country_name\"\n",
        "})[[\"iso3\", \"country_name\"]].drop_duplicates()\n",
        "\n",
        "# Add a missing who_region column with NULL values\n",
        "countries[\"who_region\"] = None\n",
        "\n",
        "countries.to_sql(\"dim_countries\", conn, if_exists=\"append\", index=False)\n",
        "print(\" dim_countries populated\")\n"
      ],
      "metadata": {
        "colab": {
          "base_uri": "https://localhost:8080/"
        },
        "id": "y2VTvADNmm4E",
        "outputId": "b7b92f63-e0d3-48f5-f189-6412f045c15d"
      },
      "execution_count": null,
      "outputs": [
        {
          "output_type": "stream",
          "name": "stdout",
          "text": [
            " dim_countries populated\n"
          ]
        }
      ]
    },
    {
      "cell_type": "code",
      "source": [
        "print(dfs[\"dim_vaccines\"].columns.tolist())\n",
        "print(dfs[\"dim_diseases\"].columns.tolist())\n"
      ],
      "metadata": {
        "colab": {
          "base_uri": "https://localhost:8080/"
        },
        "id": "hKNfH0v8mup4",
        "outputId": "1c873098-99cd-4035-f57a-09ff6fff89b1"
      },
      "execution_count": null,
      "outputs": [
        {
          "output_type": "stream",
          "name": "stdout",
          "text": [
            "['vaccine_code', 'vaccine_name']\n",
            "['disease_code', 'disease_name']\n"
          ]
        }
      ]
    },
    {
      "cell_type": "code",
      "source": [
        "import sqlite3\n",
        "import pandas as pd\n",
        "import os\n",
        "\n",
        "# --- Step 1: Connect / Reset DB ---\n",
        "db_path = \"/content/vaccination_data.db\"\n",
        "conn = sqlite3.connect(db_path)\n",
        "cursor = conn.cursor()\n",
        "\n",
        "schema = \"\"\"\n",
        "DROP TABLE IF EXISTS fact_schedule;\n",
        "DROP TABLE IF EXISTS fact_introduction;\n",
        "DROP TABLE IF EXISTS fact_cases;\n",
        "DROP TABLE IF EXISTS fact_incidence;\n",
        "DROP TABLE IF EXISTS fact_coverage;\n",
        "DROP TABLE IF EXISTS dim_years;\n",
        "DROP TABLE IF EXISTS dim_diseases;\n",
        "DROP TABLE IF EXISTS dim_vaccines;\n",
        "DROP TABLE IF EXISTS dim_countries;\n",
        "\n",
        "-- Dimensions\n",
        "CREATE TABLE dim_countries (\n",
        "    country_id INTEGER PRIMARY KEY AUTOINCREMENT,\n",
        "    iso3 TEXT UNIQUE,\n",
        "    country_name TEXT,\n",
        "    who_region TEXT\n",
        ");\n",
        "\n",
        "CREATE TABLE dim_vaccines (\n",
        "    vaccine_id INTEGER PRIMARY KEY AUTOINCREMENT,\n",
        "    vaccine_code TEXT UNIQUE,\n",
        "    vaccine_name TEXT\n",
        ");\n",
        "\n",
        "CREATE TABLE dim_diseases (\n",
        "    disease_id INTEGER PRIMARY KEY AUTOINCREMENT,\n",
        "    disease_code TEXT UNIQUE,\n",
        "    disease_name TEXT\n",
        ");\n",
        "\n",
        "CREATE TABLE dim_years (\n",
        "    year_id INTEGER PRIMARY KEY AUTOINCREMENT,\n",
        "    year INTEGER UNIQUE\n",
        ");\n",
        "\n",
        "-- Facts (empty for now)\n",
        "CREATE TABLE fact_cases (\n",
        "    case_id INTEGER PRIMARY KEY AUTOINCREMENT,\n",
        "    country_id INTEGER,\n",
        "    disease_id INTEGER,\n",
        "    year_id INTEGER,\n",
        "    cases INTEGER,\n",
        "    FOREIGN KEY (country_id) REFERENCES dim_countries(country_id),\n",
        "    FOREIGN KEY (disease_id) REFERENCES dim_diseases(disease_id),\n",
        "    FOREIGN KEY (year_id) REFERENCES dim_years(year_id)\n",
        ");\n",
        "\"\"\"\n",
        "cursor.executescript(schema)\n",
        "conn.commit()\n",
        "print(\" Fresh schema created\")\n",
        "\n",
        "# --- Step 2: Populate Dimensions ---\n",
        "\n",
        "# Countries\n",
        "countries = dfs[\"dim_countries\"].rename(columns={\n",
        "    \"code\": \"iso3\",\n",
        "    \"name\": \"country_name\"\n",
        "})[[\"iso3\", \"country_name\"]].drop_duplicates()\n",
        "countries[\"who_region\"] = None  # placeholder since not in CSV\n",
        "countries.to_sql(\"dim_countries\", conn, if_exists=\"append\", index=False)\n",
        "print(f\" dim_countries populated → {len(countries)} rows\")\n",
        "\n",
        "# Vaccines\n",
        "vaccines = dfs[\"dim_vaccines\"][[\"vaccine_code\", \"vaccine_name\"]].drop_duplicates()\n",
        "vaccines.to_sql(\"dim_vaccines\", conn, if_exists=\"append\", index=False)\n",
        "print(f\" dim_vaccines populated → {len(vaccines)} rows\")\n",
        "\n",
        "# Diseases\n",
        "diseases = dfs[\"dim_diseases\"][[\"disease_code\", \"disease_name\"]].drop_duplicates()\n",
        "diseases.to_sql(\"dim_diseases\", conn, if_exists=\"append\", index=False)\n",
        "print(f\" dim_diseases populated → {len(diseases)} rows\")\n",
        "\n",
        "# Years (union from all fact CSVs)\n",
        "# --- Years ---\n",
        "years = pd.concat([\n",
        "    dfs[\"fact_coverage\"][\"year\"],\n",
        "    dfs[\"fact_incidence\"][\"year\"],\n",
        "    dfs[\"fact_cases\"][\"year\"],\n",
        "    dfs[\"fact_introduction\"][\"year\"],\n",
        "    dfs[\"fact_schedule\"][\"year\"]\n",
        "]).dropna().unique()\n",
        "\n",
        "years_df = pd.DataFrame({\"year\": years})\n",
        "years_df.to_sql(\"dim_years\", conn, if_exists=\"append\", index=False)\n",
        "print(f\" dim_years populated → {len(years_df)} rows\")\n",
        "\n"
      ],
      "metadata": {
        "colab": {
          "base_uri": "https://localhost:8080/"
        },
        "id": "Gw3C0fQbni6U",
        "outputId": "f926468c-a700-496d-932a-5e7042fc4a8e"
      },
      "execution_count": null,
      "outputs": [
        {
          "output_type": "stream",
          "name": "stdout",
          "text": [
            " Fresh schema created\n",
            " dim_countries populated → 245 rows\n",
            " dim_vaccines populated → 69 rows\n",
            " dim_diseases populated → 13 rows\n",
            " dim_years populated → 84 rows\n"
          ]
        }
      ]
    },
    {
      "cell_type": "markdown",
      "source": [
        "## Populate fact tables"
      ],
      "metadata": {
        "id": "KsjFVJb6xIsC"
      }
    },
    {
      "cell_type": "code",
      "source": [
        "import pandas as pd\n",
        "\n",
        "# ---------------- DIM TABLE LOADER ----------------\n",
        "def get_dim_tables(conn):\n",
        "    dim_years = pd.read_sql(\"SELECT * FROM dim_years\", conn)\n",
        "    dim_countries = pd.read_sql(\"SELECT * FROM dim_countries\", conn)\n",
        "    dim_diseases = pd.read_sql(\"SELECT * FROM dim_diseases\", conn)\n",
        "    dim_vaccines = pd.read_sql(\"SELECT * FROM dim_vaccines\", conn)\n",
        "    return dim_years, dim_countries, dim_diseases, dim_vaccines\n",
        "\n",
        "\n",
        "# ---------------- FACT CASES ----------------\n",
        "def normalize_fact_cases(path, conn):\n",
        "    df = pd.read_excel(path)\n",
        "    df.columns = df.columns.str.lower()\n",
        "\n",
        "    dim_years, dim_countries, dim_diseases, _ = get_dim_tables(conn)\n",
        "\n",
        "    fact = df.rename(columns={\n",
        "        \"code\": \"iso3\",\n",
        "        \"year\": \"year\",\n",
        "        \"disease\": \"disease_code\",\n",
        "        \"cases\": \"cases\"\n",
        "    })\n",
        "\n",
        "    fact = fact.merge(dim_years, on=\"year\", how=\"left\")\n",
        "    fact = fact.merge(dim_countries[[\"country_id\", \"iso3\"]], on=\"iso3\", how=\"left\")\n",
        "    fact = fact.merge(dim_diseases[[\"disease_id\", \"disease_code\"]], on=\"disease_code\", how=\"left\")\n",
        "\n",
        "    return fact[[\"country_id\", \"disease_id\", \"year_id\", \"cases\"]]\n",
        "\n",
        "\n",
        "# ---------------- FACT COVERAGE ----------------\n",
        "def normalize_fact_coverage(path, conn):\n",
        "    df = pd.read_excel(path)\n",
        "    df.columns = df.columns.str.lower()\n",
        "\n",
        "    dim_years, dim_countries, _, dim_vaccines = get_dim_tables(conn)\n",
        "\n",
        "    fact = df.rename(columns={\n",
        "        \"code\": \"iso3\",\n",
        "        \"year\": \"year\",\n",
        "        \"antigen\": \"vaccine_code\",\n",
        "        \"target number\": \"target_number\",\n",
        "        \"doses\": \"doses_administered\",\n",
        "        \"coverage\": \"coverage_percent\",\n",
        "        \"coverage_category\": \"coverage_category\"\n",
        "    })\n",
        "\n",
        "    fact = fact.merge(dim_years, on=\"year\", how=\"left\")\n",
        "    fact = fact.merge(dim_countries[[\"country_id\", \"iso3\"]], on=\"iso3\", how=\"left\")\n",
        "    fact = fact.merge(dim_vaccines[[\"vaccine_id\", \"vaccine_code\"]], on=\"vaccine_code\", how=\"left\")\n",
        "\n",
        "    return fact[[\n",
        "        \"country_id\", \"vaccine_id\", \"year_id\",\n",
        "        \"target_number\", \"doses_administered\",\n",
        "        \"coverage_percent\", \"coverage_category\"\n",
        "    ]]\n",
        "\n",
        "\n",
        "# ---------------- FACT INCIDENCE ----------------\n",
        "def normalize_fact_incidence(path, conn):\n",
        "    df = pd.read_excel(path)\n",
        "    df.columns = df.columns.str.lower()\n",
        "\n",
        "    dim_years, dim_countries, dim_diseases, _ = get_dim_tables(conn)\n",
        "\n",
        "    fact = df.rename(columns={\n",
        "        \"code\": \"iso3\",\n",
        "        \"year\": \"year\",\n",
        "        \"disease\": \"disease_code\",\n",
        "        \"denominator\": \"denominator\",\n",
        "        \"incidence rate\": \"incidence_rate\"\n",
        "    })\n",
        "\n",
        "    fact = fact.merge(dim_years, on=\"year\", how=\"left\")\n",
        "    fact = fact.merge(dim_countries[[\"country_id\", \"iso3\"]], on=\"iso3\", how=\"left\")\n",
        "    fact = fact.merge(dim_diseases[[\"disease_id\", \"disease_code\"]], on=\"disease_code\", how=\"left\")\n",
        "\n",
        "    return fact[[\"country_id\", \"disease_id\", \"year_id\", \"denominator\", \"incidence_rate\"]]\n",
        "\n",
        "\n",
        "# ---------------- FACT INTRODUCTION ----------------\n",
        "def normalize_fact_introduction(path, conn):\n",
        "    df = pd.read_excel(path)\n",
        "    df.columns = df.columns.str.lower()\n",
        "\n",
        "    dim_years, dim_countries, _, dim_vaccines = get_dim_tables(conn)\n",
        "\n",
        "    fact = df.rename(columns={\n",
        "        \"iso_3_code\": \"iso3\",\n",
        "        \"year\": \"year\",\n",
        "        \"description\": \"vaccine_code\",  # linking description as vaccine_code\n",
        "        \"intro\": \"introduced\"\n",
        "    })\n",
        "\n",
        "    fact = fact.merge(dim_years, on=\"year\", how=\"left\")\n",
        "    fact = fact.merge(dim_countries[[\"country_id\", \"iso3\"]], on=\"iso3\", how=\"left\")\n",
        "    fact = fact.merge(dim_vaccines[[\"vaccine_id\", \"vaccine_code\"]], on=\"vaccine_code\", how=\"left\")\n",
        "\n",
        "    return fact[[\"country_id\", \"vaccine_id\", \"year_id\", \"introduced\"]]\n",
        "\n",
        "\n",
        "# ---------------- FACT SCHEDULE ----------------\n",
        "def normalize_fact_schedule(path, conn):\n",
        "    df = pd.read_excel(path)\n",
        "    df.columns = df.columns.str.lower()\n",
        "    print(\" fact_schedule columns:\", df.columns.tolist())  # debug\n",
        "\n",
        "    dim_years, dim_countries, _, dim_vaccines = get_dim_tables(conn)\n",
        "\n",
        "    fact = df.rename(columns={\n",
        "        \"iso_3_code\": \"iso3\",\n",
        "        \"year\": \"year\",\n",
        "        \"vaccinecode\": \"vaccine_code\",\n",
        "        \"schedulerounds\": \"schedule_round\",\n",
        "        \"targetpop\": \"target_pop\",\n",
        "        \"geoarea\": \"geoarea\",\n",
        "        \"ageadministered\": \"age_administered\",\n",
        "        \"sourcecomment\": \"source_comment\"\n",
        "    })\n",
        "\n",
        "    fact = fact.merge(dim_years, on=\"year\", how=\"left\")\n",
        "    fact = fact.merge(dim_countries[[\"country_id\", \"iso3\"]], on=\"iso3\", how=\"left\")\n",
        "    fact = fact.merge(dim_vaccines[[\"vaccine_id\", \"vaccine_code\"]], on=\"vaccine_code\", how=\"left\")\n",
        "\n",
        "    return fact[[\n",
        "        \"country_id\", \"vaccine_id\", \"year_id\",\n",
        "        \"schedule_round\", \"target_pop\",\n",
        "        \"geoarea\", \"age_administered\", \"source_comment\"\n",
        "    ]]\n",
        "\n",
        "\n",
        "\n",
        "# ---------------- LOAD ALL FACT TABLES ----------------\n",
        "fact_cases_final = normalize_fact_cases(\"reported-cases-data.xlsx\", conn)\n",
        "fact_cases_final.to_sql(\"fact_cases\", conn, if_exists=\"append\", index=False)\n",
        "print(f\" fact_cases inserted → {len(fact_cases_final)} rows\")\n",
        "\n",
        "fact_coverage_final = normalize_fact_coverage(\"coverage-data.xlsx\", conn)\n",
        "fact_coverage_final.to_sql(\"fact_coverage\", conn, if_exists=\"append\", index=False)\n",
        "print(f\" fact_coverage inserted → {len(fact_coverage_final)} rows\")\n",
        "\n",
        "fact_incidence_final = normalize_fact_incidence(\"incidence-rate-data.xlsx\", conn)\n",
        "fact_incidence_final.to_sql(\"fact_incidence\", conn, if_exists=\"append\", index=False)\n",
        "print(f\" fact_incidence inserted → {len(fact_incidence_final)} rows\")\n",
        "\n",
        "fact_introduction_final = normalize_fact_introduction(\"vaccine-introduction-data.xlsx\", conn)\n",
        "fact_introduction_final.to_sql(\"fact_introduction\", conn, if_exists=\"append\", index=False)\n",
        "print(f\" fact_introduction inserted → {len(fact_introduction_final)} rows\")\n",
        "\n",
        "fact_schedule_final = normalize_fact_schedule(\"vaccine-schedule-data.xlsx\", conn)\n",
        "fact_schedule_final.to_sql(\"fact_schedule\", conn, if_exists=\"append\", index=False)\n",
        "print(f\" fact_schedule inserted → {len(fact_schedule_final)} rows\")\n"
      ],
      "metadata": {
        "colab": {
          "base_uri": "https://localhost:8080/"
        },
        "id": "CfW1_b6Z6wim",
        "outputId": "0823912e-cb78-466c-c6e1-89fed0edb8e3"
      },
      "execution_count": null,
      "outputs": [
        {
          "output_type": "stream",
          "name": "stdout",
          "text": [
            " fact_cases inserted → 84870 rows\n",
            " fact_coverage inserted → 399859 rows\n",
            " fact_incidence inserted → 84946 rows\n",
            " fact_introduction inserted → 138321 rows\n",
            " fact_schedule columns: ['iso_3_code', 'countryname', 'who_region', 'year', 'vaccinecode', 'vaccine_description', 'schedulerounds', 'targetpop', 'targetpop_description', 'geoarea', 'ageadministered', 'sourcecomment']\n",
            " fact_schedule inserted → 8053 rows\n"
          ]
        }
      ]
    },
    {
      "cell_type": "markdown",
      "source": [
        "### data integrity"
      ],
      "metadata": {
        "id": "4LJV9hELCq3h"
      }
    },
    {
      "cell_type": "code",
      "source": [
        "import sqlite3\n",
        "\n",
        "db_path = \"/content/vaccination_data.db\"\n",
        "conn = sqlite3.connect(db_path)\n",
        "cursor = conn.cursor()\n",
        "\n",
        "# Enforce foreign key constraints\n",
        "cursor.execute(\"PRAGMA foreign_keys = ON;\")\n"
      ],
      "metadata": {
        "colab": {
          "base_uri": "https://localhost:8080/"
        },
        "id": "DLLUks-OCqSl",
        "outputId": "ff23badc-dd19-4e13-ff2c-9f19d1d45727"
      },
      "execution_count": null,
      "outputs": [
        {
          "output_type": "execute_result",
          "data": {
            "text/plain": [
              "<sqlite3.Cursor at 0x7a1e9bc68bc0>"
            ]
          },
          "metadata": {},
          "execution_count": 46
        }
      ]
    },
    {
      "cell_type": "code",
      "source": [
        "schema = \"\"\"\n",
        "DROP TABLE IF EXISTS fact_cases;\n",
        "\n",
        "CREATE TABLE fact_cases (\n",
        "    case_id INTEGER PRIMARY KEY AUTOINCREMENT,\n",
        "    country_id INTEGER NOT NULL,\n",
        "    disease_id INTEGER NOT NULL,\n",
        "    year_id INTEGER NOT NULL,\n",
        "    cases INTEGER,\n",
        "    FOREIGN KEY (country_id) REFERENCES dim_countries(country_id),\n",
        "    FOREIGN KEY (disease_id) REFERENCES dim_diseases(disease_id),\n",
        "    FOREIGN KEY (year_id) REFERENCES dim_years(year_id)\n",
        ");\n",
        "\"\"\"\n",
        "cursor.executescript(schema)\n",
        "conn.commit()\n"
      ],
      "metadata": {
        "id": "h2KvqY5zC9Ju"
      },
      "execution_count": null,
      "outputs": []
    },
    {
      "cell_type": "code",
      "source": [
        "integrity_check = pd.read_sql(\"PRAGMA foreign_key_check;\", conn)\n",
        "if integrity_check.empty:\n",
        "    print(\" All foreign key references are valid!\")\n",
        "else:\n",
        "    print(\" Integrity issues found:\")\n",
        "    display(integrity_check)\n"
      ],
      "metadata": {
        "colab": {
          "base_uri": "https://localhost:8080/"
        },
        "id": "Y11myxSCEABm",
        "outputId": "13b6c744-644f-4691-e7b8-a9b3852ddcd4"
      },
      "execution_count": null,
      "outputs": [
        {
          "output_type": "stream",
          "name": "stdout",
          "text": [
            " All foreign key references are valid!\n"
          ]
        }
      ]
    },
    {
      "cell_type": "code",
      "source": [
        "print(pd.read_sql(\"PRAGMA integrity_check;\", conn))\n"
      ],
      "metadata": {
        "colab": {
          "base_uri": "https://localhost:8080/"
        },
        "id": "IVPnZYQqFKow",
        "outputId": "4372aa9c-671d-4f9e-a451-a63208595618"
      },
      "execution_count": null,
      "outputs": [
        {
          "output_type": "stream",
          "name": "stdout",
          "text": [
            "  integrity_check\n",
            "0              ok\n"
          ]
        }
      ]
    },
    {
      "cell_type": "markdown",
      "source": [
        "#  Exploratory Data Analysis (EDA)"
      ],
      "metadata": {
        "id": "Mq4aCHQtPDN1"
      }
    },
    {
      "cell_type": "code",
      "source": [
        "# Exploratory Data Analysis (EDA)\n",
        "import sqlite3\n",
        "import pandas as pd\n",
        "import matplotlib.pyplot as plt\n",
        "\n",
        "# --- 1. Connect to the Database ---\n",
        "db_path = \"/content/vaccination_data.db\"  # adjust path if needed\n",
        "conn = sqlite3.connect(db_path)\n",
        "\n",
        "# --- 2. Load Key Fact Tables with Joins ---\n",
        "# Vaccination coverage with country + vaccine + year\n",
        "coverage_df = pd.read_sql(\"\"\"\n",
        "SELECT c.country_name, v.vaccine_name, y.year, f.coverage_percent\n",
        "FROM fact_coverage f\n",
        "JOIN dim_countries c ON f.country_id = c.country_id\n",
        "JOIN dim_vaccines v ON f.vaccine_id = v.vaccine_id\n",
        "JOIN dim_years y ON f.year_id = y.year_id\n",
        "\"\"\", conn)\n",
        "\n",
        "# Disease incidence with country + disease + year\n",
        "incidence_df = pd.read_sql(\"\"\"\n",
        "SELECT c.country_name, d.disease_name, y.year, f.incidence_rate\n",
        "FROM fact_incidence f\n",
        "JOIN dim_countries c ON f.country_id = c.country_id\n",
        "JOIN dim_diseases d ON f.disease_id = d.disease_id\n",
        "JOIN dim_years y ON f.year_id = y.year_id\n",
        "\"\"\", conn)\n",
        "\n",
        "# Reported cases\n",
        "cases_df = pd.read_sql(\"\"\"\n",
        "SELECT c.country_name, d.disease_name, y.year, f.cases\n",
        "FROM fact_cases f\n",
        "JOIN dim_countries c ON f.country_id = c.country_id\n",
        "JOIN dim_diseases d ON f.disease_id = d.disease_id\n",
        "JOIN dim_years y ON f.year_id = y.year_id\n",
        "\"\"\", conn)\n",
        "\n",
        "print(\" Data loaded for EDA\")\n",
        "print(\"Coverage:\", coverage_df.shape, \"Incidence:\", incidence_df.shape, \"Cases:\", cases_df.shape)\n",
        "\n",
        "\n",
        "# --- 3. Statistical Summaries ---\n",
        "print(\"\\n--- Vaccination Coverage Summary ---\")\n",
        "print(coverage_df[\"coverage_percent\"].describe())\n",
        "\n",
        "print(\"\\n--- Disease Incidence Summary ---\")\n",
        "print(incidence_df[\"incidence_rate\"].describe())\n",
        "\n",
        "print(\"\\n--- Reported Cases Summary ---\")\n",
        "print(cases_df[\"cases\"].describe())\n",
        "\n",
        "\n",
        "# --- 4. Visualization: Coverage Trends ---\n",
        "plt.figure(figsize=(12,6))\n",
        "coverage_trends = coverage_df.groupby(\"year\")[\"coverage_percent\"].mean()\n",
        "coverage_trends.plot(kind=\"line\", marker=\"o\", title=\"Global Average Vaccination Coverage Over Time\")\n",
        "plt.ylabel(\"Coverage %\")\n",
        "plt.show()\n",
        "\n",
        "# --- 5. Visualization: Disease Incidence Trends ---\n",
        "plt.figure(figsize=(12,6))\n",
        "incidence_trends = incidence_df.groupby(\"year\")[\"incidence_rate\"].mean()\n",
        "incidence_trends.plot(kind=\"line\", marker=\"o\", color=\"red\", title=\"Global Average Disease Incidence Over Time\")\n",
        "plt.ylabel(\"Incidence Rate\")\n",
        "plt.show()\n",
        "\n",
        "# --- 6. Regional Disparities ---\n",
        "regional_cov = pd.read_sql(\"\"\"\n",
        "SELECT c.who_region, y.year, AVG(f.coverage_percent) as avg_coverage\n",
        "FROM fact_coverage f\n",
        "JOIN dim_countries c ON f.country_id = c.country_id\n",
        "JOIN dim_years y ON f.year_id = y.year_id\n",
        "GROUP BY c.who_region, y.year\n",
        "\"\"\", conn)\n",
        "\n",
        "plt.figure(figsize=(12,6))\n",
        "for region, group in regional_cov.groupby(\"who_region\"):\n",
        "    plt.plot(group[\"year\"], group[\"avg_coverage\"], marker=\"o\", label=region)\n",
        "\n",
        "plt.title(\"Vaccination Coverage by WHO Region\")\n",
        "plt.ylabel(\"Coverage %\")\n",
        "plt.legend()\n",
        "plt.show()\n",
        "\n",
        "# --- 7. Correlation Analysis (Coverage vs Incidence) ---\n",
        "merged_df = pd.read_sql(\"\"\"\n",
        "SELECT c.country_name, y.year, v.vaccine_name, d.disease_name,\n",
        "       cov.coverage_percent, inc.incidence_rate\n",
        "FROM fact_coverage cov\n",
        "JOIN dim_countries c ON cov.country_id = c.country_id\n",
        "JOIN dim_vaccines v ON cov.vaccine_id = v.vaccine_id\n",
        "JOIN dim_years y ON cov.year_id = y.year_id\n",
        "JOIN fact_incidence inc ON inc.country_id = c.country_id AND inc.year_id = y.year_id\n",
        "JOIN dim_diseases d ON inc.disease_id = d.disease_id\n",
        "\"\"\", conn)\n",
        "\n",
        "print(\"\\nCorrelation between coverage % and incidence rate:\")\n",
        "print(merged_df[[\"coverage_percent\",\"incidence_rate\"]].corr())\n",
        "\n",
        "plt.figure(figsize=(8,6))\n",
        "plt.scatter(merged_df[\"coverage_percent\"], merged_df[\"incidence_rate\"], alpha=0.3)\n",
        "plt.title(\"Correlation: Vaccination Coverage vs Disease Incidence\")\n",
        "plt.xlabel(\"Coverage %\")\n",
        "plt.ylabel(\"Incidence Rate\")\n",
        "plt.show()\n"
      ],
      "metadata": {
        "colab": {
          "base_uri": "https://localhost:8080/",
          "height": 1000
        },
        "id": "iSg0q4R5P2el",
        "outputId": "f37e098f-1b20-4e6c-cc54-8bdeba082374"
      },
      "execution_count": null,
      "outputs": [
        {
          "output_type": "stream",
          "name": "stdout",
          "text": [
            " Data loaded for EDA\n",
            "Coverage: (399858, 4) Incidence: (84945, 4) Cases: (0, 4)\n",
            "\n",
            "--- Vaccination Coverage Summary ---\n",
            "count    230477.000000\n",
            "mean         78.032914\n",
            "std          74.891697\n",
            "min           0.000000\n",
            "25%          69.320000\n",
            "50%          88.790000\n",
            "75%          96.000000\n",
            "max       32000.000000\n",
            "Name: coverage_percent, dtype: float64\n",
            "\n",
            "--- Disease Incidence Summary ---\n",
            "count    61584.000000\n",
            "mean       109.448781\n",
            "std        992.276983\n",
            "min          0.000000\n",
            "25%          0.000000\n",
            "50%          0.000000\n",
            "75%          4.600000\n",
            "max      69101.300000\n",
            "Name: incidence_rate, dtype: float64\n",
            "\n",
            "--- Reported Cases Summary ---\n",
            "count       0\n",
            "unique      0\n",
            "top       NaN\n",
            "freq      NaN\n",
            "Name: cases, dtype: object\n"
          ]
        },
        {
          "output_type": "display_data",
          "data": {
            "text/plain": [
              "<Figure size 1200x600 with 1 Axes>"
            ],
            "image/png": "[encoded data removed]"
          },
          "metadata": {}
        },
        {
          "output_type": "display_data",
          "data": {
            "text/plain": [
              "<Figure size 1200x600 with 1 Axes>"
            ],
            "image/png": "[encoded data removed]"
          },
          "metadata": {}
        },
        {
          "output_type": "stream",
          "name": "stderr",
          "text": [
            "/tmp/ipython-input-3542486677.py:82: UserWarning: No artists with labels found to put in legend.  Note that artists whose label start with an underscore are ignored when legend() is called with no argument.\n",
            "  plt.legend()\n"
          ]
        },
        {
          "output_type": "display_data",
          "data": {
            "text/plain": [
              "<Figure size 1200x600 with 1 Axes>"
            ],
            "image/png": "[encoded data removed]"
          },
          "metadata": {}
        },
        {
          "output_type": "stream",
          "name": "stdout",
          "text": [
            "\n",
            "Correlation between coverage % and incidence rate:\n",
            "                  coverage_percent  incidence_rate\n",
            "coverage_percent          1.000000       -0.014466\n",
            "incidence_rate           -0.014466        1.000000\n"
          ]
        },
        {
          "output_type": "display_data",
          "data": {
            "text/plain": [
              "<Figure size 800x600 with 1 Axes>"
            ],
            "image/png": "[encoded data removed]"
          },
          "metadata": {}
        }
      ]
    }
  ]
}